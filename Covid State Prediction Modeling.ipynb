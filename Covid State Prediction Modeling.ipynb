{
 "cells": [
  {
   "cell_type": "code",
   "execution_count": 1,
   "metadata": {},
   "outputs": [],
   "source": [
    "import numpy as np \n",
    "import pandas as pd \n",
    "import matplotlib.pyplot as plt \n",
    "import seaborn as sns \n",
    "import datetime\n",
    "import warnings\n",
    "\n",
    "from sklearn.model_selection import train_test_split\n",
    "from sklearn.linear_model import LinearRegression\n",
    "from sklearn.ensemble import RandomForestRegressor\n",
    "from sklearn.metrics import accuracy_score\n",
    "from sklearn.metrics import r2_score\n",
    "from sklearn.metrics import mean_absolute_error\n",
    "from sklearn.metrics import mean_squared_error\n",
    "from sklearn.dummy import DummyRegressor\n",
    "from sklearn.preprocessing import StandardScaler\n",
    " \n",
    "warnings.simplefilter(action=\"ignore\", category=FutureWarning)\n",
    "warnings.filterwarnings(action=\"ignore\")"
   ]
  },
  {
   "cell_type": "code",
   "execution_count": 2,
   "metadata": {},
   "outputs": [],
   "source": [
    "df = pd.read_csv(r'C:\\Users\\agrae\\Documents\\AAA_Work\\Coding\\Springboard\\HW\\000_Capstone_2\\Data\\DF_end.csv')\n",
    "df.drop('Unnamed: 0', inplace=True, axis=1)"
   ]
  },
  {
   "cell_type": "code",
   "execution_count": 3,
   "metadata": {},
   "outputs": [
    {
     "data": {
      "text/html": [
       "<div>\n",
       "<style scoped>\n",
       "    .dataframe tbody tr th:only-of-type {\n",
       "        vertical-align: middle;\n",
       "    }\n",
       "\n",
       "    .dataframe tbody tr th {\n",
       "        vertical-align: top;\n",
       "    }\n",
       "\n",
       "    .dataframe thead th {\n",
       "        text-align: right;\n",
       "    }\n",
       "</style>\n",
       "<table border=\"1\" class=\"dataframe\">\n",
       "  <thead>\n",
       "    <tr style=\"text-align: right;\">\n",
       "      <th></th>\n",
       "      <th>Week</th>\n",
       "      <th>State</th>\n",
       "      <th>Republican</th>\n",
       "      <th>perc_pop_obese</th>\n",
       "      <th>pop_size</th>\n",
       "      <th>perc_pop_urban</th>\n",
       "      <th>GDP_norm</th>\n",
       "      <th>Deaths_norm</th>\n",
       "      <th>total_deaths_norm</th>\n",
       "    </tr>\n",
       "  </thead>\n",
       "  <tbody>\n",
       "    <tr>\n",
       "      <th>0</th>\n",
       "      <td>2021-04-17</td>\n",
       "      <td>Alabama</td>\n",
       "      <td>1</td>\n",
       "      <td>36.1</td>\n",
       "      <td>4903</td>\n",
       "      <td>59.0</td>\n",
       "      <td>46.531231</td>\n",
       "      <td>0.002040</td>\n",
       "      <td>2.112176</td>\n",
       "    </tr>\n",
       "    <tr>\n",
       "      <th>1</th>\n",
       "      <td>2021-04-17</td>\n",
       "      <td>Alaska</td>\n",
       "      <td>1</td>\n",
       "      <td>30.5</td>\n",
       "      <td>731</td>\n",
       "      <td>66.0</td>\n",
       "      <td>74.398803</td>\n",
       "      <td>0.000000</td>\n",
       "      <td>0.262654</td>\n",
       "    </tr>\n",
       "    <tr>\n",
       "      <th>2</th>\n",
       "      <td>2021-04-17</td>\n",
       "      <td>Arizona</td>\n",
       "      <td>1</td>\n",
       "      <td>31.4</td>\n",
       "      <td>7278</td>\n",
       "      <td>89.8</td>\n",
       "      <td>50.854507</td>\n",
       "      <td>0.003710</td>\n",
       "      <td>2.125309</td>\n",
       "    </tr>\n",
       "    <tr>\n",
       "      <th>3</th>\n",
       "      <td>2021-04-17</td>\n",
       "      <td>Arkansas</td>\n",
       "      <td>1</td>\n",
       "      <td>37.4</td>\n",
       "      <td>3017</td>\n",
       "      <td>56.2</td>\n",
       "      <td>43.405403</td>\n",
       "      <td>0.000000</td>\n",
       "      <td>1.938349</td>\n",
       "    </tr>\n",
       "    <tr>\n",
       "      <th>4</th>\n",
       "      <td>2021-04-17</td>\n",
       "      <td>California</td>\n",
       "      <td>0</td>\n",
       "      <td>26.2</td>\n",
       "      <td>39512</td>\n",
       "      <td>95.0</td>\n",
       "      <td>79.287320</td>\n",
       "      <td>0.000911</td>\n",
       "      <td>1.584911</td>\n",
       "    </tr>\n",
       "  </tbody>\n",
       "</table>\n",
       "</div>"
      ],
      "text/plain": [
       "         Week       State  Republican  perc_pop_obese  pop_size  \\\n",
       "0  2021-04-17     Alabama           1            36.1      4903   \n",
       "1  2021-04-17      Alaska           1            30.5       731   \n",
       "2  2021-04-17     Arizona           1            31.4      7278   \n",
       "3  2021-04-17    Arkansas           1            37.4      3017   \n",
       "4  2021-04-17  California           0            26.2     39512   \n",
       "\n",
       "   perc_pop_urban   GDP_norm  Deaths_norm  total_deaths_norm  \n",
       "0            59.0  46.531231     0.002040           2.112176  \n",
       "1            66.0  74.398803     0.000000           0.262654  \n",
       "2            89.8  50.854507     0.003710           2.125309  \n",
       "3            56.2  43.405403     0.000000           1.938349  \n",
       "4            95.0  79.287320     0.000911           1.584911  "
      ]
     },
     "execution_count": 3,
     "metadata": {},
     "output_type": "execute_result"
    }
   ],
   "source": [
    "df.head()"
   ]
  },
  {
   "cell_type": "code",
   "execution_count": 4,
   "metadata": {},
   "outputs": [],
   "source": [
    "X = df.drop(['Week', 'State', 'Deaths_norm', 'total_deaths_norm'], axis=1)\n",
    "y = df['total_deaths_norm']\n",
    "\n",
    "X_train, X_test, y_train, y_test = train_test_split(X, y, test_size=.2)"
   ]
  },
  {
   "cell_type": "code",
   "execution_count": 5,
   "metadata": {},
   "outputs": [
    {
     "name": "stdout",
     "output_type": "stream",
     "text": [
      "r2 is (-0.6538972887266461,).\n",
      "MAE is 0.35288.\n",
      "MSE is 0.24255.\n"
     ]
    }
   ],
   "source": [
    "mod_LR = LinearRegression()\n",
    "mod_LR.fit(X_train, y_train)\n",
    "y_pred = mod_LR.predict(X_test)\n",
    "r2 = r2_score(y_test, y_pred), \n",
    "mae = mean_absolute_error(y_test, y_pred)\n",
    "mse = mean_squared_error(y_test, y_pred)\n",
    "print(f'r2 is {r2}.')\n",
    "print(f'MAE is {mae :.5f}.')\n",
    "print(f'MSE is {mse :.5f}.')"
   ]
  },
  {
   "cell_type": "code",
   "execution_count": 6,
   "metadata": {},
   "outputs": [
    {
     "name": "stdout",
     "output_type": "stream",
     "text": [
      "r2 is (-1.578464440741906,).\n",
      "MAE is 0.38777.\n",
      "MSE is 0.37814.\n"
     ]
    }
   ],
   "source": [
    "mod_RF = RandomForestRegressor()\n",
    "mod_RF.fit(X_train, y_train)\n",
    "y_pred = mod_RF.predict(X_test)\n",
    "r2 = r2_score(y_test, y_pred), \n",
    "mae = mean_absolute_error(y_test, y_pred)\n",
    "mse = mean_squared_error(y_test, y_pred)\n",
    "print(f'r2 is {r2}.')\n",
    "print(f'MAE is {mae :.5f}.')\n",
    "print(f'MSE is {mse :.5f}.')"
   ]
  },
  {
   "cell_type": "code",
   "execution_count": 7,
   "metadata": {},
   "outputs": [
    {
     "name": "stdout",
     "output_type": "stream",
     "text": [
      "r2 is (-0.10500012568602779,).\n",
      "MAE is 0.30116.\n",
      "MSE is 0.16205.\n"
     ]
    }
   ],
   "source": [
    "mod_DR = DummyRegressor()\n",
    "mod_DR.fit(X_train, y_train)\n",
    "y_pred = mod_DR.predict(X_test)\n",
    "r2 = r2_score(y_test, y_pred), \n",
    "mae = mean_absolute_error(y_test, y_pred)\n",
    "mse = mean_squared_error(y_test, y_pred)\n",
    "print(f'r2 is {r2}.')\n",
    "print(f'MAE is {mae :.5f}.')\n",
    "print(f'MSE is {mse :.5f}.')"
   ]
  },
  {
   "cell_type": "markdown",
   "metadata": {},
   "source": [
    "First off, we can see that none of our metrics are looking great. It does look like the RandomForest is the best so far though. Let's scale our data."
   ]
  },
  {
   "cell_type": "markdown",
   "metadata": {},
   "source": [
    "Scale data, dummy regressor, gridsearchCV, mean squared error, root mean squared"
   ]
  },
  {
   "cell_type": "code",
   "execution_count": 8,
   "metadata": {},
   "outputs": [],
   "source": [
    "scaler = StandardScaler()\n",
    "scaler.fit(X_train)\n",
    "X_train_scaled = scaler.transform(X_train)\n",
    "X_test_scaled = scaler.transform(X_test)"
   ]
  },
  {
   "cell_type": "code",
   "execution_count": 9,
   "metadata": {},
   "outputs": [
    {
     "name": "stdout",
     "output_type": "stream",
     "text": [
      "r2 is (-0.6538972887266445,).\n",
      "MAE is 0.35288.\n",
      "MSE is 0.24255.\n"
     ]
    }
   ],
   "source": [
    "mod_LR = LinearRegression()\n",
    "mod_LR.fit(X_train_scaled, y_train)\n",
    "y_pred = mod_LR.predict(X_test_scaled)\n",
    "r2 = r2_score(y_test, y_pred), \n",
    "mae = mean_absolute_error(y_test, y_pred)\n",
    "mse = mean_squared_error(y_test, y_pred)\n",
    "print(f'r2 is {r2}.')\n",
    "print(f'MAE is {mae :.5f}.')\n",
    "print(f'MSE is {mse :.5f}.')"
   ]
  },
  {
   "cell_type": "code",
   "execution_count": 10,
   "metadata": {},
   "outputs": [
    {
     "name": "stdout",
     "output_type": "stream",
     "text": [
      "r2 is (-1.4878759599826559,).\n",
      "MAE is 0.39363.\n",
      "MSE is 0.36486.\n"
     ]
    }
   ],
   "source": [
    "mod_RF = RandomForestRegressor()\n",
    "mod_RF.fit(X_train_scaled, y_train)\n",
    "y_pred = mod_RF.predict(X_test_scaled)\n",
    "r2 = r2_score(y_test, y_pred), \n",
    "mae = mean_absolute_error(y_test, y_pred)\n",
    "mse = mean_squared_error(y_test, y_pred)\n",
    "print(f'r2 is {r2}.')\n",
    "print(f'MAE is {mae :.5f}.')\n",
    "print(f'MSE is {mse :.5f}.')"
   ]
  },
  {
   "cell_type": "code",
   "execution_count": null,
   "metadata": {},
   "outputs": [],
   "source": []
  }
 ],
 "metadata": {
  "kernelspec": {
   "display_name": "Python 3",
   "language": "python",
   "name": "python3"
  },
  "language_info": {
   "codemirror_mode": {
    "name": "ipython",
    "version": 3
   },
   "file_extension": ".py",
   "mimetype": "text/x-python",
   "name": "python",
   "nbconvert_exporter": "python",
   "pygments_lexer": "ipython3",
   "version": "3.8.5"
  }
 },
 "nbformat": 4,
 "nbformat_minor": 4
}
