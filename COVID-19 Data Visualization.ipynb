{
 "cells": [
  {
   "cell_type": "markdown",
   "metadata": {},
   "source": [
    "Continuation of the Covid-19 analysis"
   ]
  },
  {
   "cell_type": "code",
   "execution_count": 1,
   "metadata": {},
   "outputs": [],
   "source": [
    "import numpy as np \n",
    "import pandas as pd \n",
    "import matplotlib.pyplot as plt \n",
    "import seaborn as sns \n",
    "import datetime\n",
    "import warnings\n",
    " \n",
    "warnings.simplefilter(action=\"ignore\", category=FutureWarning)\n",
    "warnings.filterwarnings(action=\"ignore\", module=\"scipy\", message=\"^internal gelsd\")"
   ]
  },
  {
   "cell_type": "markdown",
   "metadata": {},
   "source": [
    "Let's import the data"
   ]
  },
  {
   "cell_type": "code",
   "execution_count": 2,
   "metadata": {},
   "outputs": [
    {
     "data": {
      "text/html": [
       "<div>\n",
       "<style scoped>\n",
       "    .dataframe tbody tr th:only-of-type {\n",
       "        vertical-align: middle;\n",
       "    }\n",
       "\n",
       "    .dataframe tbody tr th {\n",
       "        vertical-align: top;\n",
       "    }\n",
       "\n",
       "    .dataframe thead th {\n",
       "        text-align: right;\n",
       "    }\n",
       "</style>\n",
       "<table border=\"1\" class=\"dataframe\">\n",
       "  <thead>\n",
       "    <tr style=\"text-align: right;\">\n",
       "      <th></th>\n",
       "      <th>Week Ending Date</th>\n",
       "      <th>COVID-19 Deaths</th>\n",
       "      <th>State</th>\n",
       "      <th>total_covid_deaths</th>\n",
       "      <th>GDP_millions</th>\n",
       "      <th>Republican</th>\n",
       "      <th>perc_pop_obese</th>\n",
       "      <th>pop_size</th>\n",
       "      <th>perc_pop_urban</th>\n",
       "    </tr>\n",
       "  </thead>\n",
       "  <tbody>\n",
       "    <tr>\n",
       "      <th>0</th>\n",
       "      <td>01/04/2020</td>\n",
       "      <td>0.0</td>\n",
       "      <td>Alabama</td>\n",
       "      <td>0.0</td>\n",
       "      <td>228142.625</td>\n",
       "      <td>1</td>\n",
       "      <td>36.1</td>\n",
       "      <td>4903</td>\n",
       "      <td>59.0</td>\n",
       "    </tr>\n",
       "    <tr>\n",
       "      <th>1</th>\n",
       "      <td>01/11/2020</td>\n",
       "      <td>0.0</td>\n",
       "      <td>Alabama</td>\n",
       "      <td>0.0</td>\n",
       "      <td>228142.625</td>\n",
       "      <td>1</td>\n",
       "      <td>36.1</td>\n",
       "      <td>4903</td>\n",
       "      <td>59.0</td>\n",
       "    </tr>\n",
       "    <tr>\n",
       "      <th>2</th>\n",
       "      <td>01/18/2020</td>\n",
       "      <td>0.0</td>\n",
       "      <td>Alabama</td>\n",
       "      <td>0.0</td>\n",
       "      <td>228142.625</td>\n",
       "      <td>1</td>\n",
       "      <td>36.1</td>\n",
       "      <td>4903</td>\n",
       "      <td>59.0</td>\n",
       "    </tr>\n",
       "    <tr>\n",
       "      <th>3</th>\n",
       "      <td>01/25/2020</td>\n",
       "      <td>0.0</td>\n",
       "      <td>Alabama</td>\n",
       "      <td>0.0</td>\n",
       "      <td>228142.625</td>\n",
       "      <td>1</td>\n",
       "      <td>36.1</td>\n",
       "      <td>4903</td>\n",
       "      <td>59.0</td>\n",
       "    </tr>\n",
       "    <tr>\n",
       "      <th>4</th>\n",
       "      <td>02/01/2020</td>\n",
       "      <td>0.0</td>\n",
       "      <td>Alabama</td>\n",
       "      <td>0.0</td>\n",
       "      <td>228142.625</td>\n",
       "      <td>1</td>\n",
       "      <td>36.1</td>\n",
       "      <td>4903</td>\n",
       "      <td>59.0</td>\n",
       "    </tr>\n",
       "  </tbody>\n",
       "</table>\n",
       "</div>"
      ],
      "text/plain": [
       "  Week Ending Date  COVID-19 Deaths    State  total_covid_deaths  \\\n",
       "0       01/04/2020              0.0  Alabama                 0.0   \n",
       "1       01/11/2020              0.0  Alabama                 0.0   \n",
       "2       01/18/2020              0.0  Alabama                 0.0   \n",
       "3       01/25/2020              0.0  Alabama                 0.0   \n",
       "4       02/01/2020              0.0  Alabama                 0.0   \n",
       "\n",
       "   GDP_millions  Republican  perc_pop_obese  pop_size  perc_pop_urban  \n",
       "0    228142.625           1            36.1      4903            59.0  \n",
       "1    228142.625           1            36.1      4903            59.0  \n",
       "2    228142.625           1            36.1      4903            59.0  \n",
       "3    228142.625           1            36.1      4903            59.0  \n",
       "4    228142.625           1            36.1      4903            59.0  "
      ]
     },
     "execution_count": 2,
     "metadata": {},
     "output_type": "execute_result"
    }
   ],
   "source": [
    "df = pd.read_csv(r'C:\\Users\\agrae\\Documents\\AAA_Work\\Coding\\Springboard\\HW\\000_Capstone_2\\Data\\Clean_DF.csv')\n",
    "df.drop('Unnamed: 0', inplace=True, axis=1)\n",
    "df.head()"
   ]
  },
  {
   "cell_type": "markdown",
   "metadata": {},
   "source": [
    "Let's make the names a bit more managable"
   ]
  },
  {
   "cell_type": "code",
   "execution_count": 3,
   "metadata": {},
   "outputs": [
    {
     "data": {
      "text/html": [
       "<div>\n",
       "<style scoped>\n",
       "    .dataframe tbody tr th:only-of-type {\n",
       "        vertical-align: middle;\n",
       "    }\n",
       "\n",
       "    .dataframe tbody tr th {\n",
       "        vertical-align: top;\n",
       "    }\n",
       "\n",
       "    .dataframe thead th {\n",
       "        text-align: right;\n",
       "    }\n",
       "</style>\n",
       "<table border=\"1\" class=\"dataframe\">\n",
       "  <thead>\n",
       "    <tr style=\"text-align: right;\">\n",
       "      <th></th>\n",
       "      <th>Week</th>\n",
       "      <th>Deaths</th>\n",
       "      <th>State</th>\n",
       "      <th>total_covid_deaths</th>\n",
       "      <th>GDP_millions</th>\n",
       "      <th>Republican</th>\n",
       "      <th>perc_pop_obese</th>\n",
       "      <th>pop_size</th>\n",
       "      <th>perc_pop_urban</th>\n",
       "    </tr>\n",
       "  </thead>\n",
       "  <tbody>\n",
       "    <tr>\n",
       "      <th>0</th>\n",
       "      <td>01/04/2020</td>\n",
       "      <td>0.0</td>\n",
       "      <td>Alabama</td>\n",
       "      <td>0.0</td>\n",
       "      <td>228142.625</td>\n",
       "      <td>1</td>\n",
       "      <td>36.1</td>\n",
       "      <td>4903</td>\n",
       "      <td>59.0</td>\n",
       "    </tr>\n",
       "    <tr>\n",
       "      <th>1</th>\n",
       "      <td>01/11/2020</td>\n",
       "      <td>0.0</td>\n",
       "      <td>Alabama</td>\n",
       "      <td>0.0</td>\n",
       "      <td>228142.625</td>\n",
       "      <td>1</td>\n",
       "      <td>36.1</td>\n",
       "      <td>4903</td>\n",
       "      <td>59.0</td>\n",
       "    </tr>\n",
       "    <tr>\n",
       "      <th>2</th>\n",
       "      <td>01/18/2020</td>\n",
       "      <td>0.0</td>\n",
       "      <td>Alabama</td>\n",
       "      <td>0.0</td>\n",
       "      <td>228142.625</td>\n",
       "      <td>1</td>\n",
       "      <td>36.1</td>\n",
       "      <td>4903</td>\n",
       "      <td>59.0</td>\n",
       "    </tr>\n",
       "    <tr>\n",
       "      <th>3</th>\n",
       "      <td>01/25/2020</td>\n",
       "      <td>0.0</td>\n",
       "      <td>Alabama</td>\n",
       "      <td>0.0</td>\n",
       "      <td>228142.625</td>\n",
       "      <td>1</td>\n",
       "      <td>36.1</td>\n",
       "      <td>4903</td>\n",
       "      <td>59.0</td>\n",
       "    </tr>\n",
       "    <tr>\n",
       "      <th>4</th>\n",
       "      <td>02/01/2020</td>\n",
       "      <td>0.0</td>\n",
       "      <td>Alabama</td>\n",
       "      <td>0.0</td>\n",
       "      <td>228142.625</td>\n",
       "      <td>1</td>\n",
       "      <td>36.1</td>\n",
       "      <td>4903</td>\n",
       "      <td>59.0</td>\n",
       "    </tr>\n",
       "  </tbody>\n",
       "</table>\n",
       "</div>"
      ],
      "text/plain": [
       "         Week  Deaths    State  total_covid_deaths  GDP_millions  Republican  \\\n",
       "0  01/04/2020     0.0  Alabama                 0.0    228142.625           1   \n",
       "1  01/11/2020     0.0  Alabama                 0.0    228142.625           1   \n",
       "2  01/18/2020     0.0  Alabama                 0.0    228142.625           1   \n",
       "3  01/25/2020     0.0  Alabama                 0.0    228142.625           1   \n",
       "4  02/01/2020     0.0  Alabama                 0.0    228142.625           1   \n",
       "\n",
       "   perc_pop_obese  pop_size  perc_pop_urban  \n",
       "0            36.1      4903            59.0  \n",
       "1            36.1      4903            59.0  \n",
       "2            36.1      4903            59.0  \n",
       "3            36.1      4903            59.0  \n",
       "4            36.1      4903            59.0  "
      ]
     },
     "execution_count": 3,
     "metadata": {},
     "output_type": "execute_result"
    }
   ],
   "source": [
    "df.rename({'Week Ending Date':'Week', 'COVID-19 Deaths':'Deaths'}, inplace=True, axis=1)\n",
    "df.head()"
   ]
  },
  {
   "cell_type": "markdown",
   "metadata": {},
   "source": [
    "Let's see what kind of corrilations we can find and then plot them."
   ]
  },
  {
   "cell_type": "code",
   "execution_count": 4,
   "metadata": {},
   "outputs": [
    {
     "data": {
      "text/html": [
       "<div>\n",
       "<style scoped>\n",
       "    .dataframe tbody tr th:only-of-type {\n",
       "        vertical-align: middle;\n",
       "    }\n",
       "\n",
       "    .dataframe tbody tr th {\n",
       "        vertical-align: top;\n",
       "    }\n",
       "\n",
       "    .dataframe thead th {\n",
       "        text-align: right;\n",
       "    }\n",
       "</style>\n",
       "<table border=\"1\" class=\"dataframe\">\n",
       "  <thead>\n",
       "    <tr style=\"text-align: right;\">\n",
       "      <th></th>\n",
       "      <th>Deaths</th>\n",
       "      <th>total_covid_deaths</th>\n",
       "      <th>GDP_millions</th>\n",
       "      <th>Republican</th>\n",
       "      <th>perc_pop_obese</th>\n",
       "      <th>pop_size</th>\n",
       "      <th>perc_pop_urban</th>\n",
       "    </tr>\n",
       "  </thead>\n",
       "  <tbody>\n",
       "    <tr>\n",
       "      <th>Deaths</th>\n",
       "      <td>1.000000</td>\n",
       "      <td>0.578411</td>\n",
       "      <td>0.509218</td>\n",
       "      <td>-0.031906</td>\n",
       "      <td>-0.096084</td>\n",
       "      <td>0.525952</td>\n",
       "      <td>0.241108</td>\n",
       "    </tr>\n",
       "    <tr>\n",
       "      <th>total_covid_deaths</th>\n",
       "      <td>0.578411</td>\n",
       "      <td>1.000000</td>\n",
       "      <td>0.572420</td>\n",
       "      <td>-0.075448</td>\n",
       "      <td>-0.184191</td>\n",
       "      <td>0.589691</td>\n",
       "      <td>0.312998</td>\n",
       "    </tr>\n",
       "    <tr>\n",
       "      <th>GDP_millions</th>\n",
       "      <td>0.509218</td>\n",
       "      <td>0.572420</td>\n",
       "      <td>1.000000</td>\n",
       "      <td>-0.191731</td>\n",
       "      <td>-0.212692</td>\n",
       "      <td>0.979803</td>\n",
       "      <td>0.465354</td>\n",
       "    </tr>\n",
       "    <tr>\n",
       "      <th>Republican</th>\n",
       "      <td>-0.031906</td>\n",
       "      <td>-0.075448</td>\n",
       "      <td>-0.191731</td>\n",
       "      <td>1.000000</td>\n",
       "      <td>0.449373</td>\n",
       "      <td>-0.112707</td>\n",
       "      <td>-0.388880</td>\n",
       "    </tr>\n",
       "    <tr>\n",
       "      <th>perc_pop_obese</th>\n",
       "      <td>-0.096084</td>\n",
       "      <td>-0.184191</td>\n",
       "      <td>-0.212692</td>\n",
       "      <td>0.449373</td>\n",
       "      <td>1.000000</td>\n",
       "      <td>-0.165396</td>\n",
       "      <td>-0.470535</td>\n",
       "    </tr>\n",
       "    <tr>\n",
       "      <th>pop_size</th>\n",
       "      <td>0.525952</td>\n",
       "      <td>0.589691</td>\n",
       "      <td>0.979803</td>\n",
       "      <td>-0.112707</td>\n",
       "      <td>-0.165396</td>\n",
       "      <td>1.000000</td>\n",
       "      <td>0.450819</td>\n",
       "    </tr>\n",
       "    <tr>\n",
       "      <th>perc_pop_urban</th>\n",
       "      <td>0.241108</td>\n",
       "      <td>0.312998</td>\n",
       "      <td>0.465354</td>\n",
       "      <td>-0.388880</td>\n",
       "      <td>-0.470535</td>\n",
       "      <td>0.450819</td>\n",
       "      <td>1.000000</td>\n",
       "    </tr>\n",
       "  </tbody>\n",
       "</table>\n",
       "</div>"
      ],
      "text/plain": [
       "                      Deaths  total_covid_deaths  GDP_millions  Republican  \\\n",
       "Deaths              1.000000            0.578411      0.509218   -0.031906   \n",
       "total_covid_deaths  0.578411            1.000000      0.572420   -0.075448   \n",
       "GDP_millions        0.509218            0.572420      1.000000   -0.191731   \n",
       "Republican         -0.031906           -0.075448     -0.191731    1.000000   \n",
       "perc_pop_obese     -0.096084           -0.184191     -0.212692    0.449373   \n",
       "pop_size            0.525952            0.589691      0.979803   -0.112707   \n",
       "perc_pop_urban      0.241108            0.312998      0.465354   -0.388880   \n",
       "\n",
       "                    perc_pop_obese  pop_size  perc_pop_urban  \n",
       "Deaths                   -0.096084  0.525952        0.241108  \n",
       "total_covid_deaths       -0.184191  0.589691        0.312998  \n",
       "GDP_millions             -0.212692  0.979803        0.465354  \n",
       "Republican                0.449373 -0.112707       -0.388880  \n",
       "perc_pop_obese            1.000000 -0.165396       -0.470535  \n",
       "pop_size                 -0.165396  1.000000        0.450819  \n",
       "perc_pop_urban           -0.470535  0.450819        1.000000  "
      ]
     },
     "execution_count": 4,
     "metadata": {},
     "output_type": "execute_result"
    }
   ],
   "source": [
    "df.corr()"
   ]
  },
  {
   "cell_type": "code",
   "execution_count": 5,
   "metadata": {},
   "outputs": [
    {
     "data": {
      "text/plain": [
       "<AxesSubplot:>"
      ]
     },
     "execution_count": 5,
     "metadata": {},
     "output_type": "execute_result"
    },
    {
     "data": {
      "image/png": "[encoded data removed]",
      "text/plain": [
       "<Figure size 432x288 with 2 Axes>"
      ]
     },
     "metadata": {
      "needs_background": "light"
     },
     "output_type": "display_data"
    }
   ],
   "source": [
    "sns.heatmap(data=df.corr())"
   ]
  },
  {
   "cell_type": "markdown",
   "metadata": {},
   "source": [
    "This is at least a good sanity check. We can see that Republican states are usually negatively corrilated with the percentage of the population that is urban. Let's plot total deaths over time and normalize the total deaths with population size after we change the Week column into a datetime object."
   ]
  },
  {
   "cell_type": "code",
   "execution_count": 6,
   "metadata": {},
   "outputs": [
    {
     "name": "stdout",
     "output_type": "stream",
     "text": [
      "<class 'pandas.core.frame.DataFrame'>\n",
      "RangeIndex: 3400 entries, 0 to 3399\n",
      "Data columns (total 9 columns):\n",
      " #   Column              Non-Null Count  Dtype  \n",
      "---  ------              --------------  -----  \n",
      " 0   Week                3400 non-null   object \n",
      " 1   Deaths              3400 non-null   float64\n",
      " 2   State               3400 non-null   object \n",
      " 3   total_covid_deaths  3400 non-null   float64\n",
      " 4   GDP_millions        3400 non-null   float64\n",
      " 5   Republican          3400 non-null   int64  \n",
      " 6   perc_pop_obese      3400 non-null   float64\n",
      " 7   pop_size            3400 non-null   int64  \n",
      " 8   perc_pop_urban      3400 non-null   float64\n",
      "dtypes: float64(5), int64(2), object(2)\n",
      "memory usage: 239.2+ KB\n"
     ]
    }
   ],
   "source": [
    "df.info()"
   ]
  },
  {
   "cell_type": "code",
   "execution_count": 7,
   "metadata": {},
   "outputs": [
    {
     "name": "stdout",
     "output_type": "stream",
     "text": [
      "<class 'pandas.core.frame.DataFrame'>\n",
      "RangeIndex: 3400 entries, 0 to 3399\n",
      "Data columns (total 9 columns):\n",
      " #   Column              Non-Null Count  Dtype         \n",
      "---  ------              --------------  -----         \n",
      " 0   Week                3400 non-null   datetime64[ns]\n",
      " 1   Deaths              3400 non-null   float64       \n",
      " 2   State               3400 non-null   object        \n",
      " 3   total_covid_deaths  3400 non-null   float64       \n",
      " 4   GDP_millions        3400 non-null   float64       \n",
      " 5   Republican          3400 non-null   int64         \n",
      " 6   perc_pop_obese      3400 non-null   float64       \n",
      " 7   pop_size            3400 non-null   int64         \n",
      " 8   perc_pop_urban      3400 non-null   float64       \n",
      "dtypes: datetime64[ns](1), float64(5), int64(2), object(1)\n",
      "memory usage: 239.2+ KB\n"
     ]
    }
   ],
   "source": [
    "df['Week'] = pd.to_datetime(df.Week)\n",
    "df.info()"
   ]
  },
  {
   "cell_type": "code",
   "execution_count": 8,
   "metadata": {},
   "outputs": [
    {
     "data": {
      "text/plain": [
       "[<matplotlib.lines.Line2D at 0x268a73fab50>]"
      ]
     },
     "execution_count": 8,
     "metadata": {},
     "output_type": "execute_result"
    },
    {
     "data": {
      "image/png": "[encoded data removed]",
      "text/plain": [
       "<Figure size 432x288 with 1 Axes>"
      ]
     },
     "metadata": {
      "needs_background": "light"
     },
     "output_type": "display_data"
    }
   ],
   "source": [
    "y = df.total_covid_deaths/df.pop_size\n",
    "x = df.Week\n",
    "plt.plot(x, y)"
   ]
  },
  {
   "cell_type": "code",
   "execution_count": 9,
   "metadata": {},
   "outputs": [
    {
     "data": {
      "text/plain": [
       "<AxesSubplot:xlabel='Week'>"
      ]
     },
     "execution_count": 9,
     "metadata": {},
     "output_type": "execute_result"
    },
    {
     "data": {
      "image/png": "[encoded data removed]",
      "text/plain": [
       "<Figure size 432x288 with 1 Axes>"
      ]
     },
     "metadata": {
      "needs_background": "light"
     },
     "output_type": "display_data"
    }
   ],
   "source": [
    "sns.lineplot(x=x, y=y)"
   ]
  }
 ],
 "metadata": {
  "kernelspec": {
   "display_name": "Python 3",
   "language": "python",
   "name": "python3"
  },
  "language_info": {
   "codemirror_mode": {
    "name": "ipython",
    "version": 3
   },
   "file_extension": ".py",
   "mimetype": "text/x-python",
   "name": "python",
   "nbconvert_exporter": "python",
   "pygments_lexer": "ipython3",
   "version": "3.8.5"
  }
 },
 "nbformat": 4,
 "nbformat_minor": 4
}
